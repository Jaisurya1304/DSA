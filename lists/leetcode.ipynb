{
 "cells": [
  {
   "cell_type": "code",
   "execution_count": 1,
   "metadata": {},
   "outputs": [
    {
     "name": "stdout",
     "output_type": "stream",
     "text": [
      "[1, 2, 3, 5]\n"
     ]
    }
   ],
   "source": [
    "def solve(arr:int)-> list:\n",
    "    a=arr[-1]+1\n",
    "    del arr[-1]\n",
    "    arr.append(a)\n",
    "    return arr\n",
    "print(solve([1,2,3,4]))"
   ]
  },
  {
   "cell_type": "code",
   "execution_count": 21,
   "metadata": {},
   "outputs": [
    {
     "name": "stdout",
     "output_type": "stream",
     "text": [
      "False\n"
     ]
    }
   ],
   "source": [
    "class Solution:\n",
    "    def isPowerOfTwo(self, n: int) -> bool:\n",
    "        if n == 0:\n",
    "            return False\n",
    "        \n",
    "        while n > 0:\n",
    "            if n == 1:\n",
    "                return True\n",
    "            if n % 2 != 0:\n",
    "                break\n",
    "            n //= 2\n",
    "        return False\n",
    "\n",
    "solution = Solution()\n",
    "print(solution.isPowerOfTwo(6))"
   ]
  },
  {
   "cell_type": "code",
   "execution_count": 10,
   "metadata": {},
   "outputs": [
    {
     "name": "stdout",
     "output_type": "stream",
     "text": [
      "[1, 2]\n"
     ]
    }
   ],
   "source": [
    "def duplicate_remove(arr: list) -> list:\n",
    "    if not arr:\n",
    "        return arr\n",
    "    \n",
    "    b = [arr[0]]\n",
    "    for i in range(1, len(arr)):\n",
    "        if arr[i] != arr[i - 1]:\n",
    "            b.append(arr[i])\n",
    "    return b\n",
    "\n",
    "print(duplicate_remove([1, 1, 2]))\n"
   ]
  }
 ],
 "metadata": {
  "kernelspec": {
   "display_name": "Python 3",
   "language": "python",
   "name": "python3"
  },
  "language_info": {
   "codemirror_mode": {
    "name": "ipython",
    "version": 3
   },
   "file_extension": ".py",
   "mimetype": "text/x-python",
   "name": "python",
   "nbconvert_exporter": "python",
   "pygments_lexer": "ipython3",
   "version": "3.12.0"
  }
 },
 "nbformat": 4,
 "nbformat_minor": 2
}
