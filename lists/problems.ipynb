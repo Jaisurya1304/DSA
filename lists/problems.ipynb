{
 "cells": [
  {
   "cell_type": "code",
   "execution_count": 9,
   "metadata": {},
   "outputs": [
    {
     "name": "stdout",
     "output_type": "stream",
     "text": [
      "3\n"
     ]
    }
   ],
   "source": [
    "\"\"\"1.\tFind the Longest Substring Without Repeating Characters\n",
    "Problem Statement: Given a string, find the length of the longest substring without repeating characters.\n",
    "\"\"\"\n",
    "def long_string_nd(s:str)->int:\n",
    "    left=0\n",
    "    char_set=set()\n",
    "    max_length=0\n",
    "    for right in range(len(s)):\n",
    "        while s[right] in char_set:\n",
    "            char_set.remove(s[left])\n",
    "            left+=1\n",
    "        char_set.add(s[right])\n",
    "        max_length = max(max_length, right - left + 1)\n",
    "    return max_length\n",
    "a=input(\"enter the string:\")\n",
    "print(long_string_nd(a))"
   ]
  },
  {
   "cell_type": "code",
   "execution_count": 3,
   "metadata": {},
   "outputs": [
    {
     "name": "stdout",
     "output_type": "stream",
     "text": [
      "[[1, 6]]\n",
      "[[1, 6], [8, 13]]\n",
      "[[1, 6], [8, 13], [15, 18]]\n"
     ]
    }
   ],
   "source": [
    "'''\n",
    "2.\tMerge Intervals\n",
    "Problem Statement: Given a collection of intervals, merge all overlapping intervals.'''\n",
    "\n",
    "def merge(intervals: list[list[int]]) -> list[list[int]]:\n",
    "    intervals.sort()\n",
    "    j = 0\n",
    "    ans = [intervals[0]]\n",
    "    for i in range(1, len(intervals)):\n",
    "        if ans[j][1] >= intervals[i][0]:\n",
    "\n",
    "            ans[j][1] = max(intervals[i][1], ans[j][1])\n",
    "            print(ans)\n",
    "        else:\n",
    "            j+=1 \n",
    "            ans.append(intervals[i])\n",
    "    return ans\n",
    "\n",
    "print(merge([[1,3],[2,6],[8,10],[9,13],[15,18]]))"
   ]
  }
 ],
 "metadata": {
  "kernelspec": {
   "display_name": "Python 3",
   "language": "python",
   "name": "python3"
  },
  "language_info": {
   "codemirror_mode": {
    "name": "ipython",
    "version": 3
   },
   "file_extension": ".py",
   "mimetype": "text/x-python",
   "name": "python",
   "nbconvert_exporter": "python",
   "pygments_lexer": "ipython3",
   "version": "3.12.0"
  }
 },
 "nbformat": 4,
 "nbformat_minor": 2
}
