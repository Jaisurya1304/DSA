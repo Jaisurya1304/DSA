{
 "cells": [
  {
   "cell_type": "code",
   "execution_count": 1,
   "metadata": {},
   "outputs": [],
   "source": [
    "def merge(l, r):\n",
    "    s_arr = []\n",
    "    l_i = 0\n",
    "    r_i = 0\n",
    "    \n",
    "    while l_i < len(l) and r_i < len(r):\n",
    "        if l[l_i] <= r[r_i]:\n",
    "            s_arr.append(l[l_i])\n",
    "            l_i += 1\n",
    "        else:\n",
    "            s_arr.append(r[r_i])\n",
    "            r_i += 1\n",
    "\n",
    "    while l_i < len(l):\n",
    "        s_arr.append(l[l_i])\n",
    "        l_i += 1\n",
    "\n",
    "    while r_i < len(r):\n",
    "        s_arr.append(r[r_i])\n",
    "        r_i += 1\n",
    "\n",
    "    return s_arr\n"
   ]
  },
  {
   "cell_type": "code",
   "execution_count": 3,
   "metadata": {},
   "outputs": [
    {
     "name": "stdout",
     "output_type": "stream",
     "text": [
      "[2, 4, 5, 6, 7, 8]\n"
     ]
    }
   ],
   "source": [
    "def merge_sort(arr:int)->list:\n",
    "    if len(arr)<=1:\n",
    "        return arr\n",
    "    mid=len(arr)//2\n",
    "    l=merge_sort(arr[:mid])\n",
    "    r=merge_sort(arr[mid:])\n",
    "    \n",
    "    \n",
    "    return merge(l,r)\n",
    "print(merge_sort([4,6,2,5,7,8]))"
   ]
  }
 ],
 "metadata": {
  "kernelspec": {
   "display_name": "Python 3",
   "language": "python",
   "name": "python3"
  },
  "language_info": {
   "codemirror_mode": {
    "name": "ipython",
    "version": 3
   },
   "file_extension": ".py",
   "mimetype": "text/x-python",
   "name": "python",
   "nbconvert_exporter": "python",
   "pygments_lexer": "ipython3",
   "version": "3.12.0"
  }
 },
 "nbformat": 4,
 "nbformat_minor": 2
}
