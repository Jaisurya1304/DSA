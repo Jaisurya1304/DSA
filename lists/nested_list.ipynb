{
 "cells": [
  {
   "cell_type": "code",
   "execution_count": 13,
   "metadata": {},
   "outputs": [],
   "source": [
    "a=[[1,2,3],[4,5,6],[7,8,9]]"
   ]
  },
  {
   "cell_type": "code",
   "execution_count": 14,
   "metadata": {},
   "outputs": [
    {
     "data": {
      "text/plain": [
       "[[1, 2, 3], [4, 5, 6], [7, 8, 9], [10, 11, 12]]"
      ]
     },
     "execution_count": 14,
     "metadata": {},
     "output_type": "execute_result"
    }
   ],
   "source": [
    "a.append([10,11,12])\n",
    "a"
   ]
  },
  {
   "cell_type": "code",
   "execution_count": 15,
   "metadata": {},
   "outputs": [
    {
     "data": {
      "text/plain": [
       "[[1, 2, 3], [4, 5, 6], [7, 8, 9]]"
      ]
     },
     "execution_count": 15,
     "metadata": {},
     "output_type": "execute_result"
    }
   ],
   "source": [
    "a.pop(3)\n",
    "a"
   ]
  },
  {
   "cell_type": "code",
   "execution_count": null,
   "metadata": {},
   "outputs": [],
   "source": [
    "# Define a nested list\n",
    "nested_list = [[1, 2, 3], [4, 5, 6], [7, 8, 9]]\n",
    "\n",
    "# Flatten the nested list\n",
    "flat_list = [item for sublist in nested_list for item in sublist]\n",
    "print(flat_list)  # Output: [1, 2, 3, 4, 5, 6, 7, 8, 9]\n",
    "\n",
    "# Append an item to a sublist\n",
    "nested_list[0].append(10)\n",
    "print(nested_list)  # Output: [[1, 2, 3, 10], [4, 5, 6], [7, 8, 9]]\n",
    "\n",
    "# Insert an item at a specific position in a sublist\n",
    "nested_list[1].insert(1, 11)\n",
    "print(nested_list)  # Output: [[1, 2, 3, 10], [4, 11, 5, 6], [7, 8, 9]]\n",
    "\n",
    "# Remove an item from a sublist\n",
    "nested_list[0].remove(2)\n",
    "print(nested_list)  # Output: [[1, 3, 10], [4, 11, 5, 6], [7, 8, 9]]\n",
    "\n",
    "# Sort a sublist\n",
    "nested_list[1].sort()\n",
    "print(nested_list)  # Output: [[1, 3, 10], [4, 5, 6, 11], [7, 8, 9]]\n",
    "\n",
    "# Reverse a sublist\n",
    "nested_list[2].reverse()\n",
    "print(nested_list)  # Output: [[1, 3, 10], [4, 5, 6, 11], [9, 8, 7]]\n",
    "\n",
    "# Get the length of a sublist\n",
    "print(len(nested_list[0]))  # Output: 3\n",
    "\n",
    "# Get the index of an item in a sublist\n",
    "print(nested_list[1].index(5))  # Output: 2\n",
    "\n",
    "# Check if an item is in a sublist\n",
    "print(5 in nested_list[1])  # Output: True\n",
    "\n",
    "#slicing\n",
    "nested_list[1][1:3]"
   ]
  },
  {
   "cell_type": "markdown",
   "metadata": {},
   "source": [
    "Given 2 lists, print all the unique combinations using the 2 lists, note that combinations should not be repeated"
   ]
  },
  {
   "cell_type": "code",
   "execution_count": 36,
   "metadata": {},
   "outputs": [
    {
     "data": {
      "text/plain": [
       "[(1, 'a'), (1, 'b'), (1, 'c'), (2, 'a'), (2, 'b'), (2, 'c')]"
      ]
     },
     "execution_count": 36,
     "metadata": {},
     "output_type": "execute_result"
    }
   ],
   "source": [
    "a = [1, 2]\n",
    "b = ['a', 'b', 'c']\n",
    "\n",
    "c = []\n",
    "\n",
    "for item1 in a:\n",
    "    for item2 in b:\n",
    "        c.append((item1, item2))\n",
    "\n",
    "c"
   ]
  },
  {
   "cell_type": "code",
   "execution_count": 35,
   "metadata": {},
   "outputs": [
    {
     "data": {
      "text/plain": [
       "[(1, 'a'), (1, 'b'), (1, 'c'), (2, 'a'), (2, 'b'), (2, 'c')]"
      ]
     },
     "execution_count": 35,
     "metadata": {},
     "output_type": "execute_result"
    }
   ],
   "source": [
    "# with library\n",
    "import itertools\n",
    "a = [1, 2]\n",
    "b = ['a', 'b', 'c']\n",
    "\n",
    "c = list(itertools.product(a, b))\n",
    "c"
   ]
  },
  {
   "cell_type": "code",
   "execution_count": 4,
   "metadata": {},
   "outputs": [
    {
     "name": "stdout",
     "output_type": "stream",
     "text": [
      "[[-1, -1, 2], [-1, 0, 1]]\n"
     ]
    }
   ],
   "source": [
    "# return the all the triplets for an array and if we add all the numbers of that it should be equal to zero\n",
    "\"\"\"Given an integer array nums, return all the triplets [nums[i], nums[j], nums[k]] such that i != j, i != k, and j != k, and nums[i] + nums[j] + nums[k] == 0.\n",
    "\n",
    "Notice that the solution set must not contain duplicate triplets.\"\"\"\n",
    "\n",
    "def three_sum(nums):\n",
    "    nums.sort()\n",
    "    result = []\n",
    "    for i in range(len(nums) - 2):\n",
    "        if i > 0 and nums[i] == nums[i - 1]:\n",
    "            continue\n",
    "        l= i + 1\n",
    "        r= len(nums) - 1\n",
    "        while l < r:\n",
    "            s = nums[i] + nums[l] + nums[r]\n",
    "            if s < 0:\n",
    "                l += 1\n",
    "            elif s > 0:\n",
    "                r -= 1\n",
    "            else:\n",
    "                result.append([nums[i], nums[l], nums[r]])\n",
    "                while l < r and nums[l] == nums[l + 1]:\n",
    "                    l += 1\n",
    "                while l < r and nums[r] == nums[r - 1]:\n",
    "                    r -= 1\n",
    "                l += 1\n",
    "                r -= 1\n",
    "    return result\n",
    "n=[-1,0,1,2,-1,-4]\n",
    "print(three_sum(n))"
   ]
  }
 ],
 "metadata": {
  "kernelspec": {
   "display_name": "Python 3",
   "language": "python",
   "name": "python3"
  },
  "language_info": {
   "codemirror_mode": {
    "name": "ipython",
    "version": 3
   },
   "file_extension": ".py",
   "mimetype": "text/x-python",
   "name": "python",
   "nbconvert_exporter": "python",
   "pygments_lexer": "ipython3",
   "version": "3.12.0"
  }
 },
 "nbformat": 4,
 "nbformat_minor": 2
}
