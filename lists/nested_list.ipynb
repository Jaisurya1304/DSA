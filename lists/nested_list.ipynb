{
 "cells": [
  {
   "cell_type": "code",
   "execution_count": 13,
   "metadata": {},
   "outputs": [],
   "source": [
    "a = [[1, 2, 3], [4, 5, 6], [7, 8, 9]]"
   ]
  },
  {
   "cell_type": "code",
   "execution_count": 14,
   "metadata": {},
   "outputs": [
    {
     "data": {
      "text/plain": [
       "[[1, 2, 3], [4, 5, 6], [7, 8, 9], [10, 11, 12]]"
      ]
     },
     "execution_count": 14,
     "metadata": {},
     "output_type": "execute_result"
    }
   ],
   "source": [
    "a.append([10, 11, 12])\n",
    "a"
   ]
  },
  {
   "cell_type": "code",
   "execution_count": 15,
   "metadata": {},
   "outputs": [
    {
     "data": {
      "text/plain": [
       "[[1, 2, 3], [4, 5, 6], [7, 8, 9]]"
      ]
     },
     "execution_count": 15,
     "metadata": {},
     "output_type": "execute_result"
    }
   ],
   "source": [
    "a.pop(3)\n",
    "a"
   ]
  },
  {
   "cell_type": "code",
   "execution_count": null,
   "metadata": {},
   "outputs": [],
   "source": [
    "# Define a nested list\n",
    "nested_list = [[1, 2, 3], [4, 5, 6], [7, 8, 9]]\n",
    "\n",
    "# Flatten the nested list\n",
    "flat_list = [item for sublist in nested_list for item in sublist]\n",
    "print(flat_list)  # Output: [1, 2, 3, 4, 5, 6, 7, 8, 9]\n",
    "\n",
    "# Append an item to a sublist\n",
    "nested_list[0].append(10)\n",
    "print(nested_list)  # Output: [[1, 2, 3, 10], [4, 5, 6], [7, 8, 9]]\n",
    "\n",
    "# Insert an item at a specific position in a sublist\n",
    "nested_list[1].insert(1, 11)\n",
    "print(nested_list)  # Output: [[1, 2, 3, 10], [4, 11, 5, 6], [7, 8, 9]]\n",
    "\n",
    "# Remove an item from a sublist\n",
    "nested_list[0].remove(2)\n",
    "print(nested_list)  # Output: [[1, 3, 10], [4, 11, 5, 6], [7, 8, 9]]\n",
    "\n",
    "# Sort a sublist\n",
    "nested_list[1].sort()\n",
    "print(nested_list)  # Output: [[1, 3, 10], [4, 5, 6, 11], [7, 8, 9]]\n",
    "\n",
    "# Reverse a sublist\n",
    "nested_list[2].reverse()\n",
    "print(nested_list)  # Output: [[1, 3, 10], [4, 5, 6, 11], [9, 8, 7]]\n",
    "\n",
    "# Get the length of a sublist\n",
    "print(len(nested_list[0]))  # Output: 3\n",
    "\n",
    "# Get the index of an item in a sublist\n",
    "print(nested_list[1].index(5))  # Output: 2\n",
    "\n",
    "# Check if an item is in a sublist\n",
    "print(5 in nested_list[1])  # Output: True\n",
    "\n",
    "# slicing\n",
    "nested_list[1][1:3]"
   ]
  },
  {
   "cell_type": "markdown",
   "metadata": {},
   "source": [
    "Given 2 lists, print all the unique combinations using the 2 lists, note that combinations should not be repeated"
   ]
  },
  {
   "cell_type": "code",
   "execution_count": 36,
   "metadata": {},
   "outputs": [
    {
     "data": {
      "text/plain": [
       "[(1, 'a'), (1, 'b'), (1, 'c'), (2, 'a'), (2, 'b'), (2, 'c')]"
      ]
     },
     "execution_count": 36,
     "metadata": {},
     "output_type": "execute_result"
    }
   ],
   "source": [
    "a = [1, 2]\n",
    "b = [\"a\", \"b\", \"c\"]\n",
    "\n",
    "c = []\n",
    "\n",
    "for item1 in a:\n",
    "    for item2 in b:\n",
    "        c.append((item1, item2))\n",
    "\n",
    "c"
   ]
  },
  {
   "cell_type": "code",
   "execution_count": 35,
   "metadata": {},
   "outputs": [
    {
     "data": {
      "text/plain": [
       "[(1, 'a'), (1, 'b'), (1, 'c'), (2, 'a'), (2, 'b'), (2, 'c')]"
      ]
     },
     "execution_count": 35,
     "metadata": {},
     "output_type": "execute_result"
    }
   ],
   "source": [
    "# with library\n",
    "import itertools\n",
    "\n",
    "a = [1, 2]\n",
    "b = [\"a\", \"b\", \"c\"]\n",
    "\n",
    "c = list(itertools.product(a, b))\n",
    "c"
   ]
  },
  {
   "cell_type": "code",
   "execution_count": 4,
   "metadata": {},
   "outputs": [
    {
     "name": "stdout",
     "output_type": "stream",
     "text": [
      "[[-1, -1, 2], [-1, 0, 1]]\n"
     ]
    }
   ],
   "source": [
    "# return the all the triplets for an array and if we add all the numbers of that it should be equal to zero\n",
    "\"\"\"Given an integer array nums, return all the triplets [nums[i], nums[j], nums[k]] such that i != j, i != k, and j != k, and nums[i] + nums[j] + nums[k] == 0.\n",
    "\n",
    "Notice that the solution set must not contain duplicate triplets.\"\"\"\n",
    "\n",
    "\n",
    "def three_sum(nums):\n",
    "    nums.sort()\n",
    "    result = []\n",
    "    for i in range(len(nums) - 2):\n",
    "        if i > 0 and nums[i] == nums[i - 1]:\n",
    "            continue\n",
    "        l = i + 1\n",
    "        r = len(nums) - 1\n",
    "        while l < r:\n",
    "            s = nums[i] + nums[l] + nums[r]\n",
    "            if s < 0:\n",
    "                l += 1\n",
    "            elif s > 0:\n",
    "                r -= 1\n",
    "            else:\n",
    "                result.append([nums[i], nums[l], nums[r]])\n",
    "                while l < r and nums[l] == nums[l + 1]:\n",
    "                    l += 1\n",
    "                while l < r and nums[r] == nums[r - 1]:\n",
    "                    r -= 1\n",
    "                l += 1\n",
    "                r -= 1\n",
    "    return result\n",
    "\n",
    "\n",
    "n = [-1, 0, 1, 2, -1, -4]\n",
    "print(three_sum(n))"
   ]
  },
  {
   "cell_type": "code",
   "execution_count": 5,
   "metadata": {},
   "outputs": [
    {
     "name": "stdout",
     "output_type": "stream",
     "text": [
      "[2, 4]\n"
     ]
    }
   ],
   "source": [
    "# Write a function find_duplicates(nums) that takes a list of integers and returns a list of duplicates. For example, find_duplicates([1, 2, 2, 3, 4, 4, 4, 5]) should return [2, 4].\n",
    "\n",
    "\n",
    "def find_duplicates(nums):\n",
    "    count = {}\n",
    "    duplicates = []\n",
    "    for num in nums:\n",
    "        if num in count:\n",
    "            count[num] += 1\n",
    "        else:\n",
    "            count[num] = 1\n",
    "    for num, freq in count.items():\n",
    "        if freq > 1:\n",
    "            duplicates.append(num)\n",
    "    return duplicates\n",
    "\n",
    "\n",
    "print(find_duplicates([1, 2, 2, 3, 4, 4, 4, 5]))"
   ]
  },
  {
   "cell_type": "code",
   "execution_count": 11,
   "metadata": {},
   "outputs": [
    {
     "name": "stdout",
     "output_type": "stream",
     "text": [
      "[2, 4]\n"
     ]
    }
   ],
   "source": [
    "def find_duplicates(nums):\n",
    "    seen = set()\n",
    "    duplicates = set()\n",
    "\n",
    "    for num in nums:\n",
    "        if num in seen:\n",
    "            duplicates.add(num)\n",
    "        else:\n",
    "            seen.add(num)\n",
    "\n",
    "    return list(duplicates)\n",
    "\n",
    "\n",
    "print(find_duplicates([1, 2, 2, 3, 4, 4, 4, 5]))"
   ]
  },
  {
   "cell_type": "code",
   "execution_count": 16,
   "metadata": {},
   "outputs": [
    {
     "name": "stdout",
     "output_type": "stream",
     "text": [
      "3\n",
      "5\n"
     ]
    }
   ],
   "source": [
    "\"\"\"Given two strings word1 and word2, return the minimum number of operations required to convert word1 to word2.\n",
    "\n",
    "You have the following three operations permitted on a word:\n",
    "\n",
    "Insert a character\n",
    "Delete a character\n",
    "Replace a character\n",
    " \n",
    "\n",
    "Example 1:\n",
    "\n",
    "Input: word1 = \"horse\", word2 = \"ros\"\n",
    "Output: 3\n",
    "Explanation: \n",
    "horse -> rorse (replace 'h' with 'r')\n",
    "rorse -> rose (remove 'r')\n",
    "rose -> ros (remove 'e')\n",
    "Example 2:\n",
    "\n",
    "Input: word1 = \"intention\", word2 = \"execution\"\n",
    "Output: 5\n",
    "Explanation: \n",
    "intention -> inention (remove 't')\n",
    "inention -> enention (replace 'i' with 'e')\n",
    "enention -> exention (replace 'n' with 'x')\n",
    "exention -> exection (replace 'n' with 'c')\n",
    "exection -> execution (insert 'u')\n",
    "\n",
    "Constraints:\n",
    "\n",
    "0 <= word1.length, word2.length <= 500\n",
    "word1 and word2 consist of lowercase English letters.\"\"\"\n",
    "\n",
    "\n",
    "class Solution:\n",
    "    def minDistance(self, word1: str, word2: str) -> int:\n",
    "        m = len(word1)\n",
    "        n = len(word2)\n",
    "        dp = [[0] * (n + 1) for _ in range(m + 1)]\n",
    "\n",
    "        for i in range(1, m + 1):\n",
    "            dp[i][0] = i\n",
    "\n",
    "        for j in range(1, n + 1):\n",
    "            dp[0][j] = j\n",
    "\n",
    "        for i in range(1, m + 1):\n",
    "            for j in range(1, n + 1):\n",
    "                if word1[i - 1] == word2[j - 1]:\n",
    "                    dp[i][j] = dp[i - 1][j - 1]\n",
    "                else:\n",
    "                    dp[i][j] = min(dp[i - 1][j - 1], dp[i - 1][j], dp[i][j - 1]) + 1\n",
    "\n",
    "        return dp[m][n]\n",
    "\n",
    "\n",
    "print(Solution().minDistance(\"horse\", \"ros\"))\n",
    "print(Solution().minDistance(\"intention\", \"execution\"))"
   ]
  },
  {
   "cell_type": "markdown",
   "metadata": {},
   "source": [
    "The given code defines a solution to the \"Edit Distance\" problem, which is a classic problem in computer science and dynamic programming. The goal is to find the minimum number of operations required to convert one word into another. The allowed operations are:\n",
    "\n",
    "1. **Insertion** of a character\n",
    "2. **Deletion** of a character\n",
    "3. **Substitution** of a character\n",
    "\n",
    "Here's a step-by-step explanation of the code:\n",
    "\n",
    "### Code Explanation\n",
    "\n",
    "1. **Function Definition**:\n",
    "   The function `minDistance` takes two strings, `word1` and `word2`, and returns the minimum number of operations required to transform `word1` into `word2`.\n",
    "\n",
    "2. **Initialization**:\n",
    "   - `m` and `n` store the lengths of `word1` and `word2`, respectively.\n",
    "   - A 2D list `dp` of size `(m + 1) x (n + 1)` is created, initialized with zeros. This list will be used to store the minimum edit distance for substrings of `word1` and `word2`.\n",
    "\n",
    "3. **Base Case Setup**:\n",
    "   - The first row (`dp[0][j]`) and the first column (`dp[i][0]`) are initialized. This represents the number of operations required to convert an empty string into `word1` or `word2` (which is simply the length of the word, as all characters need to be inserted or deleted).\n",
    "\n",
    "4. **Filling the DP Table**:\n",
    "   - The nested loops iterate over the characters of `word1` and `word2`.\n",
    "   - If the characters `word1[i - 1]` and `word2[j - 1]` are the same, no new operation is needed; hence `dp[i][j] = dp[i - 1][j - 1]`.\n",
    "   - If the characters are different, the minimum of three possible operations is taken:\n",
    "     - Replace (`dp[i - 1][j - 1] + 1`)\n",
    "     - Delete (`dp[i - 1][j] + 1`)\n",
    "     - Insert (`dp[i][j - 1] + 1`)\n",
    "\n",
    "5. **Result**:\n",
    "   - The value in `dp[m][n]` gives the minimum edit distance between the two words.\n",
    "\n",
    "### Example\n",
    "\n",
    "1. **For \"horse\" and \"ros\"**:\n",
    "   - The function returns 3, which means it takes 3 operations to convert \"horse\" into \"ros\":\n",
    "     - \"horse\" -> \"rorse\" (substitute 'h' with 'r')\n",
    "     - \"rorse\" -> \"rose\" (delete 'r')\n",
    "     - \"rose\" -> \"ros\" (delete 'e')\n",
    "\n",
    "2. **For \"intention\" and \"execution\"**:\n",
    "   - The function returns 5, indicating it takes 5 operations:\n",
    "     - \"intention\" -> \"ention\" (delete 'i')\n",
    "     - \"ention\" -> \"entione\" (insert 'e')\n",
    "     - \"entione\" -> \"exentione\" (substitute 'n' with 'x')\n",
    "     - \"exentione\" -> \"exectione\" (substitute 'n' with 'c')\n",
    "     - \"exectione\" -> \"execution\" (substitute 'o' with 'u')"
   ]
  }
 ],
 "metadata": {
  "kernelspec": {
   "display_name": "Python 3",
   "language": "python",
   "name": "python3"
  },
  "language_info": {
   "codemirror_mode": {
    "name": "ipython",
    "version": 3
   },
   "file_extension": ".py",
   "mimetype": "text/x-python",
   "name": "python",
   "nbconvert_exporter": "python",
   "pygments_lexer": "ipython3",
   "version": "3.12.0"
  }
 },
 "nbformat": 4,
 "nbformat_minor": 2
}
